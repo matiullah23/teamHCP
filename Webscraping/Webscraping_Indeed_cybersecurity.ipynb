{
 "cells": [
  {
   "cell_type": "code",
   "execution_count": 59,
   "metadata": {},
   "outputs": [],
   "source": [
    "from selenium.webdriver.common.by import By\n",
    "from selenium import webdriver\n",
    "from selenium.webdriver.common.keys import Keys\n",
    "from selenium.webdriver.support.ui import WebDriverWait\n",
    "from selenium.webdriver.support import expected_conditions as EC\n",
    "import requests\n",
    "from bs4 import BeautifulSoup as bs\n",
    "from time import sleep"
   ]
  },
  {
   "cell_type": "code",
   "execution_count": 60,
   "metadata": {},
   "outputs": [],
   "source": [
    "# set up the webdriver\n",
    "driver = webdriver.Chrome()"
   ]
  },
  {
   "cell_type": "code",
   "execution_count": 61,
   "metadata": {},
   "outputs": [],
   "source": [
    "# go to webpage\n",
    "driver.get('https://www.indeed.com/jobs?q=cyber%20security&l=United%20States')"
   ]
  },
  {
   "cell_type": "code",
   "execution_count": 62,
   "metadata": {},
   "outputs": [],
   "source": [
    "#let the driver wait 3 seconds to locate the element before exiting out\n",
    "driver.implicitly_wait(3) "
   ]
  },
  {
   "cell_type": "code",
   "execution_count": 27,
   "metadata": {},
   "outputs": [],
   "source": [
    "#close_popup = driver.find_element_by_id(\"popover-x-button-close\")\n",
    "#close_popup.click()"
   ]
  },
  {
   "cell_type": "code",
   "execution_count": 28,
   "metadata": {},
   "outputs": [
    {
     "name": "stdout",
     "output_type": "stream",
     "text": [
      "Page: 2\n",
      "Page: 3\n",
      "Page: 4\n",
      "Page: 5\n",
      "Page: 6\n",
      "Page: 7\n",
      "Page: 8\n",
      "Page: 9\n",
      "Page: 10\n",
      "Page: 11\n",
      "Page: 12\n",
      "Page: 13\n",
      "Page: 14\n",
      "Page: 15\n",
      "Page: 16\n",
      "Page: 17\n",
      "Page: 18\n",
      "Page: 19\n",
      "Page: 20\n",
      "Page: 21\n",
      "Page: 22\n",
      "Page: 23\n",
      "Page: 24\n",
      "Page: 25\n",
      "Page: 26\n",
      "Page: 27\n",
      "Page: 28\n",
      "Page: 29\n",
      "Page: 30\n"
     ]
    }
   ],
   "source": [
    "titles=[]\n",
    "companies=[]\n",
    "locations=[]\n",
    "links =[]\n",
    "#reviews=[]\n",
    "salaries = []\n",
    "descriptions=[]\n",
    "\n",
    "for i in range(0,29):\n",
    "    \n",
    "    job_card = driver.find_elements_by_xpath('//div[contains(@class,\"job_seen_beacon\")]')\n",
    "\n",
    "    r = requests.get(driver.current_url)\n",
    "    soup = bs(r.content, 'html')\n",
    "    \n",
    "    for job, job_link in zip(job_card, soup.select('.result')):\n",
    "        links.append(f'https://indeed.com/viewjob?jk={job_link[\"data-jk\"]}')\n",
    "       \n",
    "    #.   not all positions have salary\n",
    "        try:\n",
    "            salary = job.find_element_by_xpath(\".//span[@class='salary-snippet']\").text\n",
    "            \n",
    "        except:\n",
    "            salary = \"None\"\n",
    "    #.  tells only to look at the element       \n",
    "        salaries.append(salary)\n",
    "        \n",
    "        try:\n",
    "            location = job.find_element_by_xpath(\".//div[@class='companyLocation']\").text\n",
    "        except:\n",
    "            location = \"None\"\n",
    "    #.  tells only to look at the element       \n",
    "        locations.append(location)\n",
    "        \n",
    "        try:\n",
    "            title  = job.find_element_by_xpath(\".//h2[@class='jobTitle jobTitle-color-purple']\").text\n",
    "        except:\n",
    "            title = \"None\"\n",
    "        titles.append(title)\n",
    "        #links.append(job.find_element_by_xpath('.//h2[@class=\"title\"]//a').get_attribute(name=\"href\"))\n",
    "        companies.append(job.find_element_by_xpath(\".//span[@class='companyName']\").text)\n",
    "        \n",
    "       \n",
    "        \n",
    "    \n",
    "    try:\n",
    "        next_page = driver.find_element_by_xpath('//a[@aria-label={}]//span[@class=\"pn\"]'.format(i+2))\n",
    "        next_page.click()\n",
    "\n",
    "    except:\n",
    "        next_page = driver.find_element_by_xpath('//a[@aria-label=\"Next\"]//span[@class=\"np\"]')\n",
    "        next_page.click()\n",
    "    #except:\n",
    "        #next_page = driver.find_element_by_xpath('//a[.//span[contains(text(),\"Next\")]]')\n",
    "        #next_page.click()\n",
    "        \n",
    "    \n",
    "    print(\"Page: {}\".format(str(i+2)))"
   ]
  },
  {
   "cell_type": "code",
   "execution_count": 29,
   "metadata": {},
   "outputs": [
    {
     "data": {
      "text/plain": [
       "https://indeed.com/viewjob?jk=67c6aff1436b7935    4\n",
       "https://indeed.com/viewjob?jk=3d76d9919c91de5b    3\n",
       "https://indeed.com/viewjob?jk=18c0e9e20c082608    3\n",
       "https://indeed.com/viewjob?jk=21a8c2af9eaee652    3\n",
       "https://indeed.com/viewjob?jk=fa1c10002c08caab    3\n",
       "                                                 ..\n",
       "https://indeed.com/viewjob?jk=72f52260907114b4    1\n",
       "https://indeed.com/viewjob?jk=8592e7ce35b6fddb    1\n",
       "https://indeed.com/viewjob?jk=db816ef3bede62d1    1\n",
       "https://indeed.com/viewjob?jk=ffd68d7b7bfeb8ed    1\n",
       "https://indeed.com/viewjob?jk=92424678cd39c641    1\n",
       "Length: 273, dtype: int64"
      ]
     },
     "execution_count": 29,
     "metadata": {},
     "output_type": "execute_result"
    }
   ],
   "source": [
    "# validate that code for links properly looped and isn't repeating\n",
    "import pandas as pd\n",
    "pd.Series(links).value_counts()"
   ]
  },
  {
   "cell_type": "code",
   "execution_count": 30,
   "metadata": {},
   "outputs": [
    {
     "data": {
      "text/plain": [
       "332"
      ]
     },
     "execution_count": 30,
     "metadata": {},
     "output_type": "execute_result"
    }
   ],
   "source": [
    "# validate all links are there\n",
    "len(links)"
   ]
  },
  {
   "cell_type": "code",
   "execution_count": 63,
   "metadata": {},
   "outputs": [],
   "source": [
    "# loop through links and bring in the job descpriptions\n",
    "descriptions=[]\n",
    "for link in links:\n",
    "    \n",
    "    driver.get(link)\n",
    "    jd = driver.find_element_by_xpath('//div[@id=\"jobDescriptionText\"]').text\n",
    "    descriptions.append(jd)\n",
    "    sleep(15)"
   ]
  },
  {
   "cell_type": "code",
   "execution_count": 67,
   "metadata": {},
   "outputs": [],
   "source": [
    "# create the dataset \n",
    "\n",
    "indeed_df = pd.DataFrame()\n",
    "indeed_df['Title'] = titles\n",
    "indeed_df['Company'] = companies\n",
    "indeed_df['Location'] = locations\n",
    "indeed_df['Links'] = links\n",
    "indeed_df['Salary'] = salaries\n",
    "indeed_df['Description'] = descriptions"
   ]
  },
  {
   "cell_type": "code",
   "execution_count": 68,
   "metadata": {},
   "outputs": [
    {
     "data": {
      "text/html": [
       "<div>\n",
       "<style scoped>\n",
       "    .dataframe tbody tr th:only-of-type {\n",
       "        vertical-align: middle;\n",
       "    }\n",
       "\n",
       "    .dataframe tbody tr th {\n",
       "        vertical-align: top;\n",
       "    }\n",
       "\n",
       "    .dataframe thead th {\n",
       "        text-align: right;\n",
       "    }\n",
       "</style>\n",
       "<table border=\"1\" class=\"dataframe\">\n",
       "  <thead>\n",
       "    <tr style=\"text-align: right;\">\n",
       "      <th></th>\n",
       "      <th>Title</th>\n",
       "      <th>Company</th>\n",
       "      <th>Location</th>\n",
       "      <th>Links</th>\n",
       "      <th>Salary</th>\n",
       "      <th>Description</th>\n",
       "    </tr>\n",
       "  </thead>\n",
       "  <tbody>\n",
       "    <tr>\n",
       "      <th>0</th>\n",
       "      <td>Senior Software Engineer Security and Authenti...</td>\n",
       "      <td>MathWorks</td>\n",
       "      <td>Natick, MA 01760</td>\n",
       "      <td>https://indeed.com/viewjob?jk=dedaae73a1bb2555</td>\n",
       "      <td>None</td>\n",
       "      <td>We are looking for a highly motivated work-fro...</td>\n",
       "    </tr>\n",
       "    <tr>\n",
       "      <th>1</th>\n",
       "      <td>None</td>\n",
       "      <td>Citizens</td>\n",
       "      <td>Greenville, RI 02828</td>\n",
       "      <td>https://indeed.com/viewjob?jk=8b0ad10599f3a304</td>\n",
       "      <td>None</td>\n",
       "      <td>Job Description:\\nAre you looking for a new an...</td>\n",
       "    </tr>\n",
       "    <tr>\n",
       "      <th>2</th>\n",
       "      <td>2021745 Cyber Security Analysts $215,000.00</td>\n",
       "      <td>B4CORP</td>\n",
       "      <td>Reston, VA</td>\n",
       "      <td>https://indeed.com/viewjob?jk=407b2677aa6ccc25</td>\n",
       "      <td>Up to $215,000 a year</td>\n",
       "      <td>US CITIZENSHIP REQUIRED FOR THIS POSITION: Yes...</td>\n",
       "    </tr>\n",
       "    <tr>\n",
       "      <th>3</th>\n",
       "      <td>Senior Cyber Security Analyst</td>\n",
       "      <td>TherapyNotes.com</td>\n",
       "      <td>Remote</td>\n",
       "      <td>https://indeed.com/viewjob?jk=0dd5712bac6c57aa</td>\n",
       "      <td>None</td>\n",
       "      <td>Cyber Security Analyst, Incident Response, Cyb...</td>\n",
       "    </tr>\n",
       "    <tr>\n",
       "      <th>4</th>\n",
       "      <td>Cyber Security Analyst</td>\n",
       "      <td>NDK</td>\n",
       "      <td>Morrisville, NC•Remote</td>\n",
       "      <td>https://indeed.com/viewjob?jk=2d39ed3a3baf0863</td>\n",
       "      <td>Up to $130,000 a year</td>\n",
       "      <td>Information Security Engineer\\nThe Information...</td>\n",
       "    </tr>\n",
       "  </tbody>\n",
       "</table>\n",
       "</div>"
      ],
      "text/plain": [
       "                                               Title           Company  \\\n",
       "0  Senior Software Engineer Security and Authenti...         MathWorks   \n",
       "1                                               None          Citizens   \n",
       "2        2021745 Cyber Security Analysts $215,000.00            B4CORP   \n",
       "3                      Senior Cyber Security Analyst  TherapyNotes.com   \n",
       "4                             Cyber Security Analyst               NDK   \n",
       "\n",
       "                 Location                                           Links  \\\n",
       "0        Natick, MA 01760  https://indeed.com/viewjob?jk=dedaae73a1bb2555   \n",
       "1    Greenville, RI 02828  https://indeed.com/viewjob?jk=8b0ad10599f3a304   \n",
       "2              Reston, VA  https://indeed.com/viewjob?jk=407b2677aa6ccc25   \n",
       "3                  Remote  https://indeed.com/viewjob?jk=0dd5712bac6c57aa   \n",
       "4  Morrisville, NC•Remote  https://indeed.com/viewjob?jk=2d39ed3a3baf0863   \n",
       "\n",
       "                  Salary                                        Description  \n",
       "0                   None  We are looking for a highly motivated work-fro...  \n",
       "1                   None  Job Description:\\nAre you looking for a new an...  \n",
       "2  Up to $215,000 a year  US CITIZENSHIP REQUIRED FOR THIS POSITION: Yes...  \n",
       "3                   None  Cyber Security Analyst, Incident Response, Cyb...  \n",
       "4  Up to $130,000 a year  Information Security Engineer\\nThe Information...  "
      ]
     },
     "execution_count": 68,
     "metadata": {},
     "output_type": "execute_result"
    }
   ],
   "source": [
    "# validate dataset was created properly\n",
    "indeed_df.head()"
   ]
  },
  {
   "cell_type": "code",
   "execution_count": 69,
   "metadata": {},
   "outputs": [],
   "source": [
    "# export to csv (UPDATE THE FILE TITLE)\n",
    "indeed_df.to_csv('indeed_dataset.csv', index = False)"
   ]
  },
  {
   "cell_type": "code",
   "execution_count": null,
   "metadata": {},
   "outputs": [],
   "source": []
  }
 ],
 "metadata": {
  "kernelspec": {
   "display_name": "Python 3",
   "language": "python",
   "name": "python3"
  },
  "language_info": {
   "codemirror_mode": {
    "name": "ipython",
    "version": 3
   },
   "file_extension": ".py",
   "mimetype": "text/x-python",
   "name": "python",
   "nbconvert_exporter": "python",
   "pygments_lexer": "ipython3",
   "version": "3.7.6"
  }
 },
 "nbformat": 4,
 "nbformat_minor": 4
}
